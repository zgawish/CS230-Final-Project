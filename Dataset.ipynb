{
  "cells": [
    {
      "cell_type": "markdown",
      "source": [
        "# Predicting Monkey Arm Movememnts via Electrode Signals - Dataset"
      ],
      "metadata": {
        "id": "l3Qn4oDHJKpd"
      }
    },
    {
      "cell_type": "markdown",
      "metadata": {
        "id": "QXGsTV4n9dXV"
      },
      "source": [
        "Import libraries"
      ]
    },
    {
      "cell_type": "code",
      "execution_count": null,
      "metadata": {
        "id": "JACNpCD2tkB4",
        "colab": {
          "base_uri": "https://localhost:8080/"
        },
        "outputId": "24794ccd-f9c0-499e-d3a0-4436eea76712"
      },
      "outputs": [
        {
          "output_type": "stream",
          "name": "stdout",
          "text": [
            "Looking in indexes: https://pypi.org/simple, https://us-python.pkg.dev/colab-wheels/public/simple/\n",
            "Requirement already satisfied: tsmoothie in /usr/local/lib/python3.8/dist-packages (1.0.4)\n",
            "Requirement already satisfied: simdkalman in /usr/local/lib/python3.8/dist-packages (from tsmoothie) (1.0.2)\n",
            "Requirement already satisfied: numpy in /usr/local/lib/python3.8/dist-packages (from tsmoothie) (1.21.6)\n",
            "Requirement already satisfied: scipy in /usr/local/lib/python3.8/dist-packages (from tsmoothie) (1.7.3)\n"
          ]
        }
      ],
      "source": [
        "import numpy as np\n",
        "import random\n",
        "import matplotlib.pyplot as plt\n",
        "import os\n",
        "from google.colab import drive\n",
        "!pip install --upgrade tsmoothie\n",
        "from tsmoothie.smoother import LowessSmoother"
      ]
    },
    {
      "cell_type": "markdown",
      "metadata": {
        "id": "4mf6gCVL9i3o"
      },
      "source": [
        "Connect dataset from Google Drive"
      ]
    },
    {
      "cell_type": "code",
      "execution_count": null,
      "metadata": {
        "colab": {
          "base_uri": "https://localhost:8080/"
        },
        "id": "RQtYv9EotvKC",
        "outputId": "208e6c21-f238-4540-c382-7d1cbf2a0033"
      },
      "outputs": [
        {
          "output_type": "stream",
          "name": "stdout",
          "text": [
            "Drive already mounted at /content/drive; to attempt to forcibly remount, call drive.mount(\"/content/drive\", force_remount=True).\n",
            "JR_2015-12-04_truncated2.mat  plan_test_data.mat  plan_training_data.mat\n"
          ]
        }
      ],
      "source": [
        "drive.mount('/content/drive')\n",
        "path = \"drive/MyDrive/CS230_Project/Jenkins_Rstruct_Data\"\n",
        "!ls $path"
      ]
    },
    {
      "cell_type": "markdown",
      "metadata": {
        "id": "G8CmWhPZ-r94"
      },
      "source": [
        "## Dataset information"
      ]
    },
    {
      "cell_type": "code",
      "execution_count": null,
      "metadata": {
        "colab": {
          "base_uri": "https://localhost:8080/"
        },
        "id": "o3kdea-8t0xB",
        "outputId": "e4470340-50a7-4899-d299-68bebd0338bf"
      },
      "outputs": [
        {
          "output_type": "stream",
          "name": "stdout",
          "text": [
            "There are 506 trials in the R-struct\n",
            "There are 96 electrodes with 901 millseconds of data \n",
            "\n",
            "Fields in this dataset include: \n",
            "- startDateNum\n",
            "- startDateStr\n",
            "- timeTargetOn\n",
            "- timeTargetAcquire\n",
            "- timeTargetHeld\n",
            "- timeTrialEnd\n",
            "- subject\n",
            "- counter\n",
            "- state\n",
            "- cursorPos\n",
            "- spikeRaster\n",
            "- spikeRaster2\n",
            "- isSuccessful\n",
            "- trialNum\n",
            "- timeFirstTargetAcquire\n",
            "- timeLastTargetAcquire\n",
            "- trialLength\n",
            "- target\n"
          ]
        }
      ],
      "source": [
        "import scipy.io as sio\n",
        "R = sio.loadmat(path+\"/JR_2015-12-04_truncated2.mat\")[\"R\"][0]\n",
        "ntrials = len(R)\n",
        "shape = R[0]['spikeRaster'].todense().shape\n",
        "fields = R[0].dtype.names\n",
        "\n",
        "print(\"There are %d trials in the R-struct\" % ntrials)\n",
        "print(\"There are %d electrodes with %d millseconds of data \\n\" % (shape[0], shape[1]))\n",
        "print(\"Fields in this dataset include: \")\n",
        "for field in fields:\n",
        "    print(\"-\", field)"
      ]
    },
    {
      "cell_type": "markdown",
      "source": [
        "The fields we care about the most are `target` and `spikeRaster`.\n",
        "\n",
        "The `target` field holds the coordinates of the reach direction of a given trial.\n",
        "```python\n",
        "# returns a tuple indicating the x, y, and z coordinates\n",
        "# of the target reach direction for trial 0\n",
        "R[0]['target']\n",
        "```\n",
        "The `spikeRaster` field holds a sparse matrix where each row corresponds to an electrode, and each column corresponds to a spike time. We will use the `.todense()` function to convert the row to an array of 1s and 0s where each index is a millisecond indicating whether a neuron fired (1) or not (0).\n",
        "```python\n",
        "# returns an array of spikes for the first trial and\n",
        "# and the first electrode\n",
        "R[0]['spikeRaster'].todense()[0, :]\n",
        "# returns whether there was a spike for the first trial and\n",
        "# and the first electrode during the 10th millisecond\n",
        "R[0]['spikeRaster'].todense()[0,9]\n",
        "```"
      ],
      "metadata": {
        "id": "bmUFt5hF-z-2"
      }
    },
    {
      "cell_type": "markdown",
      "source": [
        "There are 9 possible reach directions.\n",
        "```python\n",
        "# Targets sorted in CCW\n",
        "xy_sorted = np.array([\n",
        "             [0.0, 0.0],          # 0\n",
        "             [120.0, 0.0],          # 1\n",
        "             [84.85, 84.85],        # 2\n",
        "             [0.0,   120.0],        # 3\n",
        "             [-84.85,84.85],        # 4\n",
        "             [-120.0, 0],           # 5\n",
        "             [-84.85, -84.85],      # 6\n",
        "             [0.0, -120],           # 7\n",
        "             [84.85,-84.85]])       # 8\n",
        "```"
      ],
      "metadata": {
        "id": "wE6wrHE4pwvT"
      }
    },
    {
      "cell_type": "markdown",
      "source": [
        "### Raster plot of the data"
      ],
      "metadata": {
        "id": "Um84EPQY_h2W"
      }
    },
    {
      "cell_type": "code",
      "source": [
        "def plotRaster(S):\n",
        "    \"\"\"\n",
        "    plotRaster:\n",
        "    -----------\n",
        "    - S: spike train\n",
        "    -----------\n",
        "    - creates a raster plot of the spikes\n",
        "    \"\"\"\n",
        "    gap = 3\n",
        "    mark = 5\n",
        "    pad = 30\n",
        "    numSpikeTrain = len(S);\n",
        "    plt.figure()\n",
        "    for s in range(numSpikeTrain):\n",
        "        offset = pad + gap + s*(gap+mark);\n",
        "        train = S[s]\n",
        "        for t in train:\n",
        "            plt.plot([t, t], [offset, offset+mark],'black')\n",
        "        \n",
        "    plt.xlabel('Time (ms)')\n",
        "    plt.ylim([0,offset+mark+gap+pad])\n",
        "    plt.yticks([])\n",
        "    plt.grid(axis='x')"
      ],
      "metadata": {
        "id": "gs4BtQOK_gzz"
      },
      "execution_count": null,
      "outputs": []
    },
    {
      "cell_type": "code",
      "source": [
        "num_reaches = 32\n",
        "electrode_number = 17\n",
        "spike_train = np.zeros((num_reaches), dtype=object)\n",
        "ix = 0\n",
        "for trial in R:\n",
        "    target = trial[\"target\"]\n",
        "    \n",
        "    if (target[0]==120 and target[1] == 0):\n",
        "        spike_train[ix] =  np.where(trial[\"spikeRaster\"].todense()[electrode_number - 1,:])[1]\n",
        "        ix += 1\n",
        "    \n",
        "plotRaster(spike_train);\n",
        "plt.xlabel('Time [ms]')\n",
        "plt.ylabel('Spikes by trial')\n",
        "plt.title('Raster Plot for Electrode 17')"
      ],
      "metadata": {
        "colab": {
          "base_uri": "https://localhost:8080/",
          "height": 313
        },
        "id": "WuMH8WkI_Q39",
        "outputId": "3a6a5f8b-c033-445c-a901-be7a05b30565"
      },
      "execution_count": null,
      "outputs": [
        {
          "output_type": "execute_result",
          "data": {
            "text/plain": [
              "Text(0.5, 1.0, 'Raster Plot for Electrode 17')"
            ]
          },
          "metadata": {},
          "execution_count": 155
        },
        {
          "output_type": "display_data",
          "data": {
            "text/plain": [
              "<Figure size 432x288 with 1 Axes>"
            ],
            "image/png": "[encoded data removed]"
          },
          "metadata": {
            "needs_background": "light"
          }
        }
      ]
    },
    {
      "cell_type": "markdown",
      "metadata": {
        "id": "QvICL4f1a5pB"
      },
      "source": [
        "## Restructure the data"
      ]
    },
    {
      "cell_type": "markdown",
      "source": [
        "### Seperate data per reach, shift middle reaches, and apply pretraining"
      ],
      "metadata": {
        "id": "SjX1wjlEEaL3"
      }
    },
    {
      "cell_type": "code",
      "execution_count": null,
      "metadata": {
        "id": "l0YARmeXD6u9"
      },
      "outputs": [],
      "source": [
        "def seperate_reaches(R, n_reach_trials, num_electrodes, ms_start, ms, reaches, middle_reach={}, shift_middle=True):\n",
        "    \"\"\"\n",
        "    seperate_reaches:\n",
        "    -----------------\n",
        "    - R: neural data\n",
        "    - n_reach_trials: number of trials we care about\n",
        "    - num_electrodes: number of electrodes we want to account for\n",
        "    - ms_start: start index of timeseries spikes\n",
        "    - ms: length of timeseries\n",
        "    - reaches: dict of possible reach directions (should have length of 8 if shift_middle is True)\n",
        "    - middle_reach: dict of mappings for shifting middle reaches\n",
        "    - shift_middle: boolean indicating if we want to shift the middle\n",
        "    -----------------\n",
        "    - Seprates data by reach direction\n",
        "    - Translates middle movements to reaches from previous point\n",
        "    \"\"\"\n",
        "    if shift_middle and len(reaches) == 9:\n",
        "        raise Exception(\"shift_middle is true which means len(reaches) should be 8\")\n",
        "    if not shift_middle and len(reaches) == 8:\n",
        "        raise Exception(\"shift_middle is false which means len(reaches) should be 9\")\n",
        "    spike_times = np.ndarray(shape=(n_reach_trials, num_electrodes, ms))\n",
        "    # pre training\n",
        "    smoother = LowessSmoother(smooth_fraction=0.1, iterations=1)\n",
        "    print(spike_times[0])\n",
        "    smoother.smooth(spike_times[0])\n",
        "    targets = np.ndarray(shape=(n_reach_trials, 1), dtype=int)\n",
        "\n",
        "    count = {} # verify counts per reach\n",
        "    per_reach = {} # seperate spikes per reach\n",
        "    prev = (round(R[0]['target'][0].item(), 2), round(R[0]['target'][1].item(), 2))\n",
        "\n",
        "    total = 0\n",
        "    for n in range(n_reach_trials):\n",
        "        spike_time = R[n]['spikeRaster'].todense()[:, ms_start: ms_start + ms]\n",
        "        target_x = round(R[n]['target'][0].item(), 2)\n",
        "        target_y = round(R[n]['target'][1].item(), 2)\n",
        "        # first check if middle\n",
        "        if target_x == round(0.0, 2) and target_y == round(0.0, 2) and shift_middle:\n",
        "            target_x = round(middle_reach_dict[prev[0]], 2)\n",
        "            target_y = round(middle_reach_dict[prev[1]], 2)\n",
        "        for d, dir in enumerate(reaches):\n",
        "            if target_x == round(dir[0], 2) and target_y == round(dir[1], 2):\n",
        "                prev = (target_x, target_y)\n",
        "                if d not in count:\n",
        "                    count[d] = 0\n",
        "                    per_reach[d] = []\n",
        "                per_reach[d].append(spike_time)\n",
        "                count[d] += 1\n",
        "                # col[d] = 1\n",
        "                targets[total, :] = d\n",
        "                spike_times[total, :, :] = spike_time\n",
        "                total += 1\n",
        "                break\n",
        "    return spike_times, targets, count, per_reach"
      ]
    },
    {
      "cell_type": "code",
      "execution_count": null,
      "metadata": {
        "id": "sHVkZ4lKoiEy"
      },
      "outputs": [],
      "source": [
        "n_reach_trials = ntrials - 1 # remove first middle reach\n",
        "num_electrodes = 96\n",
        "ms = 300\n",
        "ms_start = 200\n",
        "\n",
        "xy_sorted = np.array([\n",
        "             [120.0, 0.0],\n",
        "             [84.85, 84.85],\n",
        "             [0.0, 120.0],\n",
        "             [-84.85,84.85],\n",
        "             [-120.0, 0],\n",
        "             [-84.85, -84.85],\n",
        "             [0.0, -120],\n",
        "             [84.85,-84.85]])\n",
        "xy_sorted_middle = np.array([\n",
        "             [0.0, 0.0],\n",
        "             [120.0, 0.0],\n",
        "             [84.85, 84.85],\n",
        "             [0.0, 120.0],\n",
        "             [-84.85,84.85],\n",
        "             [-120.0, 0],\n",
        "             [-84.85, -84.85],\n",
        "             [0.0, -120],\n",
        "             [84.85,-84.85]])\n",
        "middle_reach_dict = {\n",
        "    0.0: 0.0,\n",
        "    -84.85: 84.85,\n",
        "    84.85: -84.85,\n",
        "    -120.0: 120.0,\n",
        "    120.0: -120.0,\n",
        "}"
      ]
    },
    {
      "cell_type": "code",
      "execution_count": null,
      "metadata": {
        "id": "R4wxmyD0ztFk",
        "colab": {
          "base_uri": "https://localhost:8080/"
        },
        "outputId": "0730f72e-ec59-4c61-b31f-50f65f09d933"
      },
      "outputs": [
        {
          "output_type": "stream",
          "name": "stdout",
          "text": [
            "[[0. 0. 0. ... 0. 0. 0.]\n",
            " [0. 0. 0. ... 0. 0. 0.]\n",
            " [0. 0. 0. ... 0. 0. 0.]\n",
            " ...\n",
            " [0. 0. 0. ... 0. 0. 0.]\n",
            " [0. 0. 0. ... 0. 0. 0.]\n",
            " [0. 0. 0. ... 0. 0. 0.]]\n"
          ]
        }
      ],
      "source": [
        "spike_times, targets, count, per_reach = seperate_reaches(R, n_reach_trials, num_electrodes, ms_start, ms, xy_sorted, middle_reach_dict, shift_middle=True)"
      ]
    },
    {
      "cell_type": "code",
      "execution_count": null,
      "metadata": {
        "colab": {
          "base_uri": "https://localhost:8080/"
        },
        "id": "8oHsvwkVyAx5",
        "outputId": "4024e961-a134-40a3-8abe-cf32a016fba5"
      },
      "outputs": [
        {
          "output_type": "execute_result",
          "data": {
            "text/plain": [
              "((505, 96, 300),\n",
              " (505, 1),\n",
              " {6: 63, 2: 63, 5: 62, 1: 62, 0: 64, 4: 64, 3: 63, 7: 63},\n",
              " 8)"
            ]
          },
          "metadata": {},
          "execution_count": 159
        }
      ],
      "source": [
        "spike_times.shape, targets.shape, count, len(per_reach) # verify"
      ]
    },
    {
      "cell_type": "markdown",
      "metadata": {
        "id": "8PDeaYGQW-Kg"
      },
      "source": [
        "### Evenly Sample From Each Class"
      ]
    },
    {
      "cell_type": "code",
      "execution_count": null,
      "metadata": {
        "id": "xTgNLEVXE8pH"
      },
      "outputs": [],
      "source": [
        "import sklearn.model_selection as sk\n",
        "\n",
        "def even_sample(train_size, n_reach_trials, num_electrodes, ms, count, per_reach):\n",
        "    # get num_train and num_test manually b/c of rounding errors\n",
        "    num_train = 0\n",
        "    num_test = 0\n",
        "    for c in count:\n",
        "        num_train += int(train_size * count[c])\n",
        "        num_test += int((1 - train_size) * count[c])\n",
        "    print(num_train, num_test, n_reach_trials - num_train)\n",
        "    # initialize training and test sets\n",
        "    X_train = np.ndarray(shape=(num_train, num_electrodes, ms))\n",
        "    X_test = np.ndarray(shape=(n_reach_trials - num_train, num_electrodes, ms))\n",
        "    Y_train = np.ndarray(shape=(num_train, 1), dtype=int)\n",
        "    Y_test = np.ndarray(shape=(n_reach_trials - num_train, 1), dtype=int)\n",
        "\n",
        "    train_start = 0\n",
        "    test_start = 0\n",
        "    test = 0\n",
        "    train = 0\n",
        "    for d in per_reach:\n",
        "        reach = np.array(per_reach[d])\n",
        "        target = np.full((reach.shape[0], 1), d)\n",
        "        reach_x_train, reach_x_test, reach_y_train, reach_y_test = sk.train_test_split(reach, target, train_size=train_size, random_state = 42)\n",
        "        train += len(reach_y_train)\n",
        "        test += len(reach_y_test)\n",
        "        X_train[train_start: train_start + reach_x_train.shape[0], :, :] = reach_x_train\n",
        "        X_test[test_start: test_start + reach_x_test.shape[0], :, :] = reach_x_test\n",
        "        Y_train[train_start: train_start + reach_y_train.shape[0], :] = reach_y_train\n",
        "        Y_test[test_start: test_start + reach_y_test.shape[0], :] = reach_y_test\n",
        "        train_start += reach_x_train.shape[0]\n",
        "        test_start += reach_x_test.shape[0]\n",
        "    return X_train, Y_train, X_test[:test], Y_test[:test]"
      ]
    },
    {
      "cell_type": "code",
      "execution_count": null,
      "metadata": {
        "colab": {
          "base_uri": "https://localhost:8080/"
        },
        "id": "X3S3rrzr2pk-",
        "outputId": "68d8ab4c-ffab-419c-de10-0b0c851b000b"
      },
      "outputs": [
        {
          "output_type": "stream",
          "name": "stdout",
          "text": [
            "350 146 155\n"
          ]
        }
      ],
      "source": [
        "raw_x_train, raw_y_train, raw_x_test, raw_y_test = even_sample(.7, n_reach_trials, num_electrodes, ms, count, per_reach)"
      ]
    },
    {
      "cell_type": "code",
      "source": [
        "raw_x_train.shape"
      ],
      "metadata": {
        "colab": {
          "base_uri": "https://localhost:8080/"
        },
        "id": "fN-NZEGONgr9",
        "outputId": "2634bced-4644-448b-c7fb-0b96b8530696"
      },
      "execution_count": null,
      "outputs": [
        {
          "output_type": "execute_result",
          "data": {
            "text/plain": [
              "(350, 96, 300)"
            ]
          },
          "metadata": {},
          "execution_count": 162
        }
      ]
    }
  ],
  "metadata": {
    "colab": {
      "provenance": [],
      "collapsed_sections": [
        "G8CmWhPZ-r94",
        "Um84EPQY_h2W",
        "QvICL4f1a5pB",
        "SjX1wjlEEaL3",
        "8PDeaYGQW-Kg"
      ]
    },
    "kernelspec": {
      "display_name": "Python 3",
      "name": "python3"
    },
    "language_info": {
      "name": "python"
    }
  },
  "nbformat": 4,
  "nbformat_minor": 0
}