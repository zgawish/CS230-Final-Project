{
  "cells": [
    {
      "cell_type": "markdown",
      "source": [
        "# Predicting Monkey Arm Movememnts via Electrode Signals"
      ],
      "metadata": {
        "id": "l3Qn4oDHJKpd"
      }
    },
    {
      "cell_type": "markdown",
      "metadata": {
        "id": "QXGsTV4n9dXV"
      },
      "source": [
        "Import libraries"
      ]
    },
    {
      "cell_type": "code",
      "execution_count": 1,
      "metadata": {
        "id": "JACNpCD2tkB4",
        "colab": {
          "base_uri": "https://localhost:8080/"
        },
        "outputId": "4c87b4aa-625b-45f2-a1d5-e60336aac905"
      },
      "outputs": [
        {
          "output_type": "stream",
          "name": "stdout",
          "text": [
            "Looking in indexes: https://pypi.org/simple, https://us-python.pkg.dev/colab-wheels/public/simple/\n",
            "Collecting tsmoothie\n",
            "  Downloading tsmoothie-1.0.4-py3-none-any.whl (21 kB)\n",
            "Requirement already satisfied: scipy in /usr/local/lib/python3.8/dist-packages (from tsmoothie) (1.7.3)\n",
            "Collecting simdkalman\n",
            "  Downloading simdkalman-1.0.2-py2.py3-none-any.whl (11 kB)\n",
            "Requirement already satisfied: numpy in /usr/local/lib/python3.8/dist-packages (from tsmoothie) (1.21.6)\n",
            "Installing collected packages: simdkalman, tsmoothie\n",
            "Successfully installed simdkalman-1.0.2 tsmoothie-1.0.4\n"
          ]
        }
      ],
      "source": [
        "import numpy as np\n",
        "import random\n",
        "import matplotlib.pyplot as plt\n",
        "import os\n",
        "from google.colab import drive\n",
        "!pip install --upgrade tsmoothie\n",
        "from tsmoothie.smoother import LowessSmoother"
      ]
    },
    {
      "cell_type": "markdown",
      "metadata": {
        "id": "4mf6gCVL9i3o"
      },
      "source": [
        "Connect dataset from Google Drive"
      ]
    },
    {
      "cell_type": "code",
      "execution_count": 2,
      "metadata": {
        "colab": {
          "base_uri": "https://localhost:8080/"
        },
        "id": "RQtYv9EotvKC",
        "outputId": "dc0ead2d-a30d-45a8-c1d0-374cb160c4b7"
      },
      "outputs": [
        {
          "output_type": "stream",
          "name": "stdout",
          "text": [
            "Mounted at /content/drive\n",
            "JR_2015-12-04_truncated2.mat  plan_test_data.mat  plan_training_data.mat\n"
          ]
        }
      ],
      "source": [
        "drive.mount('/content/drive')\n",
        "path = \"drive/MyDrive/CS230_Project/Jenkins_Rstruct_Data\"\n",
        "!ls $path"
      ]
    },
    {
      "cell_type": "markdown",
      "metadata": {
        "id": "G8CmWhPZ-r94"
      },
      "source": [
        "## Dataset information"
      ]
    },
    {
      "cell_type": "code",
      "execution_count": 3,
      "metadata": {
        "colab": {
          "base_uri": "https://localhost:8080/"
        },
        "id": "o3kdea-8t0xB",
        "outputId": "f4762f02-0366-4902-91c2-6684521e3d82"
      },
      "outputs": [
        {
          "output_type": "stream",
          "name": "stdout",
          "text": [
            "There are 506 trials in the R-struct\n",
            "There are 96 electrodes with 901 millseconds of data \n",
            "\n",
            "Fields in this dataset include: \n",
            "- startDateNum\n",
            "- startDateStr\n",
            "- timeTargetOn\n",
            "- timeTargetAcquire\n",
            "- timeTargetHeld\n",
            "- timeTrialEnd\n",
            "- subject\n",
            "- counter\n",
            "- state\n",
            "- cursorPos\n",
            "- spikeRaster\n",
            "- spikeRaster2\n",
            "- isSuccessful\n",
            "- trialNum\n",
            "- timeFirstTargetAcquire\n",
            "- timeLastTargetAcquire\n",
            "- trialLength\n",
            "- target\n"
          ]
        }
      ],
      "source": [
        "import scipy.io as sio\n",
        "R = sio.loadmat(path+\"/JR_2015-12-04_truncated2.mat\")[\"R\"][0]\n",
        "ntrials = len(R)\n",
        "shape = R[0]['spikeRaster'].todense().shape\n",
        "fields = R[0].dtype.names\n",
        "\n",
        "print(\"There are %d trials in the R-struct\" % ntrials)\n",
        "print(\"There are %d electrodes with %d millseconds of data \\n\" % (shape[0], shape[1]))\n",
        "print(\"Fields in this dataset include: \")\n",
        "for field in fields:\n",
        "    print(\"-\", field)"
      ]
    },
    {
      "cell_type": "markdown",
      "source": [
        "The fields we care about the most are `target` and `spikeRaster`.\n",
        "\n",
        "The `target` field holds the coordinates of the reach direction of a given trial.\n",
        "```python\n",
        "# returns a tuple indicating the x, y, and z coordinates\n",
        "# of the target reach direction for trial 0\n",
        "R[0]['target']\n",
        "```\n",
        "The `spikeRaster` field holds a sparse matrix where each row corresponds to an electrode, and each column corresponds to a spike time. We will use the `.todense()` function to convert the row to an array of 1s and 0s where each index is a millisecond indicating whether a neuron fired (1) or not (0).\n",
        "```python\n",
        "# returns an array of spikes for the first trial and\n",
        "# and the first electrode\n",
        "R[0]['spikeRaster'].todense()[0, :]\n",
        "# returns whether there was a spike for the first trial and\n",
        "# and the first electrode during the 10th millisecond\n",
        "R[0]['spikeRaster'].todense()[0,9]\n",
        "```"
      ],
      "metadata": {
        "id": "bmUFt5hF-z-2"
      }
    },
    {
      "cell_type": "markdown",
      "source": [
        "There are 9 possible reach directions.\n",
        "```python\n",
        "# Targets sorted in CCW\n",
        "xy_sorted = np.array([\n",
        "             [0.0, 0.0],          # 0\n",
        "             [120.0, 0.0],          # 1\n",
        "             [84.85, 84.85],        # 2\n",
        "             [0.0,   120.0],        # 3\n",
        "             [-84.85,84.85],        # 4\n",
        "             [-120.0, 0],           # 5\n",
        "             [-84.85, -84.85],      # 6\n",
        "             [0.0, -120],           # 7\n",
        "             [84.85,-84.85]])       # 8\n",
        "```"
      ],
      "metadata": {
        "id": "wE6wrHE4pwvT"
      }
    },
    {
      "cell_type": "markdown",
      "source": [
        "### Raster plot of the data"
      ],
      "metadata": {
        "id": "Um84EPQY_h2W"
      }
    },
    {
      "cell_type": "code",
      "source": [
        "def plotRaster(S):\n",
        "    \"\"\"\n",
        "    plotRaster:\n",
        "    -----------\n",
        "    - S: spike train\n",
        "    -----------\n",
        "    - creates a raster plot of the spikes\n",
        "    \"\"\"\n",
        "    gap = 3\n",
        "    mark = 5\n",
        "    pad = 30\n",
        "    numSpikeTrain = len(S);\n",
        "    plt.figure()\n",
        "    for s in range(numSpikeTrain):\n",
        "        offset = pad + gap + s*(gap+mark);\n",
        "        train = S[s]\n",
        "        for t in train:\n",
        "            plt.plot([t, t], [offset, offset+mark],'black')\n",
        "        \n",
        "    plt.xlabel('Time (ms)')\n",
        "    plt.ylim([0,offset+mark+gap+pad])\n",
        "    plt.yticks([])\n",
        "    plt.grid(axis='x')"
      ],
      "metadata": {
        "id": "gs4BtQOK_gzz"
      },
      "execution_count": 4,
      "outputs": []
    },
    {
      "cell_type": "code",
      "source": [
        "num_reaches = 32\n",
        "electrode_number = 17\n",
        "spike_train = np.zeros((num_reaches), dtype=object)\n",
        "ix = 0\n",
        "for trial in R:\n",
        "    target = trial[\"target\"]\n",
        "    \n",
        "    if (target[0]==120 and target[1] == 0):\n",
        "        spike_train[ix] =  np.where(trial[\"spikeRaster\"].todense()[electrode_number - 1,:])[1]\n",
        "        ix += 1\n",
        "    \n",
        "plotRaster(spike_train);\n",
        "plt.xlabel('Time [ms]')\n",
        "plt.ylabel('Spikes by trial')\n",
        "plt.title('Raster Plot for Electrode 17')"
      ],
      "metadata": {
        "colab": {
          "base_uri": "https://localhost:8080/",
          "height": 313
        },
        "id": "WuMH8WkI_Q39",
        "outputId": "6e305d51-5c0f-4730-ed80-090900f3863a"
      },
      "execution_count": 5,
      "outputs": [
        {
          "output_type": "execute_result",
          "data": {
            "text/plain": [
              "Text(0.5, 1.0, 'Raster Plot for Electrode 17')"
            ]
          },
          "metadata": {},
          "execution_count": 5
        },
        {
          "output_type": "display_data",
          "data": {
            "text/plain": [
              "<Figure size 432x288 with 1 Axes>"
            ],
            "image/png": "[encoded data removed]"
          },
          "metadata": {
            "needs_background": "light"
          }
        }
      ]
    },
    {
      "cell_type": "markdown",
      "metadata": {
        "id": "QvICL4f1a5pB"
      },
      "source": [
        "## Restructure the data"
      ]
    },
    {
      "cell_type": "markdown",
      "source": [
        "### Seperate data per reach, shift middle reaches, and apply pretraining"
      ],
      "metadata": {
        "id": "SjX1wjlEEaL3"
      }
    },
    {
      "cell_type": "code",
      "execution_count": 6,
      "metadata": {
        "id": "l0YARmeXD6u9"
      },
      "outputs": [],
      "source": [
        "def seperate_reaches(R, n_reach_trials, num_electrodes, ms_start, ms, reaches, middle_reach={}, shift_middle=True):\n",
        "    \"\"\"\n",
        "    seperate_reaches:\n",
        "    -----------------\n",
        "    - R: neural data\n",
        "    - n_reach_trials: number of trials we care about\n",
        "    - num_electrodes: number of electrodes we want to account for\n",
        "    - ms_start: start index of timeseries spikes\n",
        "    - ms: length of timeseries\n",
        "    - reaches: dict of possible reach directions (should have length of 8 if shift_middle is True)\n",
        "    - middle_reach: dict of mappings for shifting middle reaches\n",
        "    - shift_middle: boolean indicating if we want to shift the middle\n",
        "    -----------------\n",
        "    - Seprates data by reach direction\n",
        "    - Translates middle movements to reaches from previous point\n",
        "    \"\"\"\n",
        "    if shift_middle and len(reaches) == 9:\n",
        "        raise Exception(\"shift_middle is true which means len(reaches) should be 8\")\n",
        "    if not shift_middle and len(reaches) == 8:\n",
        "        raise Exception(\"shift_middle is false which means len(reaches) should be 9\")\n",
        "    spike_times = np.ndarray(shape=(n_reach_trials, num_electrodes, ms))\n",
        "    # pre training\n",
        "    smoother = LowessSmoother(smooth_fraction=0.1, iterations=1)\n",
        "    print(spike_times[0])\n",
        "    smoother.smooth(spike_times[0])\n",
        "    targets = np.ndarray(shape=(n_reach_trials, 1), dtype=int)\n",
        "\n",
        "    count = {} # verify counts per reach\n",
        "    per_reach = {} # seperate spikes per reach\n",
        "    prev = (round(R[0]['target'][0].item(), 2), round(R[0]['target'][1].item(), 2))\n",
        "\n",
        "    total = 0\n",
        "    for n in range(n_reach_trials):\n",
        "        spike_time = R[n]['spikeRaster'].todense()[:, ms_start: ms_start + ms]\n",
        "        target_x = round(R[n]['target'][0].item(), 2)\n",
        "        target_y = round(R[n]['target'][1].item(), 2)\n",
        "        # first check if middle\n",
        "        if target_x == round(0.0, 2) and target_y == round(0.0, 2) and shift_middle:\n",
        "            target_x = round(middle_reach_dict[prev[0]], 2)\n",
        "            target_y = round(middle_reach_dict[prev[1]], 2)\n",
        "        for d, dir in enumerate(reaches):\n",
        "            if target_x == round(dir[0], 2) and target_y == round(dir[1], 2):\n",
        "                prev = (target_x, target_y)\n",
        "                if d not in count:\n",
        "                    count[d] = 0\n",
        "                    per_reach[d] = []\n",
        "                per_reach[d].append(spike_time)\n",
        "                count[d] += 1\n",
        "                # col[d] = 1\n",
        "                targets[total, :] = d\n",
        "                spike_times[total, :, :] = spike_time\n",
        "                total += 1\n",
        "                break\n",
        "    return spike_times, targets, count, per_reach"
      ]
    },
    {
      "cell_type": "code",
      "execution_count": 7,
      "metadata": {
        "id": "sHVkZ4lKoiEy"
      },
      "outputs": [],
      "source": [
        "n_reach_trials = ntrials - 1 # remove first middle reach\n",
        "num_electrodes = 96\n",
        "ms = 300\n",
        "ms_start = 200\n",
        "\n",
        "xy_sorted = np.array([\n",
        "             [120.0, 0.0],\n",
        "             [84.85, 84.85],\n",
        "             [0.0, 120.0],\n",
        "             [-84.85,84.85],\n",
        "             [-120.0, 0],\n",
        "             [-84.85, -84.85],\n",
        "             [0.0, -120],\n",
        "             [84.85,-84.85]])\n",
        "xy_sorted_middle = np.array([\n",
        "             [0.0, 0.0],\n",
        "             [120.0, 0.0],\n",
        "             [84.85, 84.85],\n",
        "             [0.0, 120.0],\n",
        "             [-84.85,84.85],\n",
        "             [-120.0, 0],\n",
        "             [-84.85, -84.85],\n",
        "             [0.0, -120],\n",
        "             [84.85,-84.85]])\n",
        "middle_reach_dict = {\n",
        "    0.0: 0.0,\n",
        "    -84.85: 84.85,\n",
        "    84.85: -84.85,\n",
        "    -120.0: 120.0,\n",
        "    120.0: -120.0,\n",
        "}"
      ]
    },
    {
      "cell_type": "code",
      "execution_count": 8,
      "metadata": {
        "id": "R4wxmyD0ztFk",
        "colab": {
          "base_uri": "https://localhost:8080/"
        },
        "outputId": "7abaebae-eb59-4d3a-d1ce-81b08471e53c"
      },
      "outputs": [
        {
          "output_type": "stream",
          "name": "stdout",
          "text": [
            "[[0. 0. 0. ... 0. 0. 0.]\n",
            " [0. 0. 0. ... 0. 0. 0.]\n",
            " [0. 0. 0. ... 0. 0. 0.]\n",
            " ...\n",
            " [0. 0. 0. ... 0. 0. 0.]\n",
            " [0. 0. 0. ... 0. 0. 0.]\n",
            " [0. 0. 0. ... 0. 0. 0.]]\n"
          ]
        }
      ],
      "source": [
        "spike_times, targets, count, per_reach = seperate_reaches(R, n_reach_trials, num_electrodes, ms_start, ms, xy_sorted, middle_reach_dict, shift_middle=True)"
      ]
    },
    {
      "cell_type": "code",
      "execution_count": 9,
      "metadata": {
        "colab": {
          "base_uri": "https://localhost:8080/"
        },
        "id": "8oHsvwkVyAx5",
        "outputId": "af30a4dd-a780-4102-87e4-32e370bd4fcb"
      },
      "outputs": [
        {
          "output_type": "execute_result",
          "data": {
            "text/plain": [
              "((505, 96, 300),\n",
              " (505, 1),\n",
              " {6: 63, 2: 63, 5: 62, 1: 62, 0: 64, 4: 64, 3: 63, 7: 63},\n",
              " 8)"
            ]
          },
          "metadata": {},
          "execution_count": 9
        }
      ],
      "source": [
        "spike_times.shape, targets.shape, count, len(per_reach) # verify"
      ]
    },
    {
      "cell_type": "markdown",
      "metadata": {
        "id": "8PDeaYGQW-Kg"
      },
      "source": [
        "### Evenly Sample From Each Class"
      ]
    },
    {
      "cell_type": "code",
      "execution_count": 10,
      "metadata": {
        "id": "xTgNLEVXE8pH"
      },
      "outputs": [],
      "source": [
        "import sklearn.model_selection as sk\n",
        "\n",
        "def even_sample(train_size, n_reach_trials, num_electrodes, ms, count, per_reach):\n",
        "    # get num_train and num_test manually b/c of rounding errors\n",
        "    num_train = 0\n",
        "    num_test = 0\n",
        "    for c in count:\n",
        "        num_train += int(train_size * count[c])\n",
        "        num_test += int((1 - train_size) * count[c])\n",
        "    print(num_train, num_test, n_reach_trials - num_train)\n",
        "    # initialize training and test sets\n",
        "    X_train = np.ndarray(shape=(num_train, num_electrodes, ms))\n",
        "    X_test = np.ndarray(shape=(n_reach_trials - num_train, num_electrodes, ms))\n",
        "    Y_train = np.ndarray(shape=(num_train, 1), dtype=int)\n",
        "    Y_test = np.ndarray(shape=(n_reach_trials - num_train, 1), dtype=int)\n",
        "\n",
        "    train_start = 0\n",
        "    test_start = 0\n",
        "    test = 0\n",
        "    train = 0\n",
        "    for d in per_reach:\n",
        "        reach = np.array(per_reach[d])\n",
        "        target = np.full((reach.shape[0], 1), d)\n",
        "        reach_x_train, reach_x_test, reach_y_train, reach_y_test = sk.train_test_split(reach, target, train_size=train_size, random_state = 42)\n",
        "        train += len(reach_y_train)\n",
        "        test += len(reach_y_test)\n",
        "        X_train[train_start: train_start + reach_x_train.shape[0], :, :] = reach_x_train\n",
        "        X_test[test_start: test_start + reach_x_test.shape[0], :, :] = reach_x_test\n",
        "        Y_train[train_start: train_start + reach_y_train.shape[0], :] = reach_y_train\n",
        "        Y_test[test_start: test_start + reach_y_test.shape[0], :] = reach_y_test\n",
        "        train_start += reach_x_train.shape[0]\n",
        "        test_start += reach_x_test.shape[0]\n",
        "    return X_train, Y_train, X_test[:test], Y_test[:test]"
      ]
    },
    {
      "cell_type": "code",
      "execution_count": 11,
      "metadata": {
        "colab": {
          "base_uri": "https://localhost:8080/"
        },
        "id": "X3S3rrzr2pk-",
        "outputId": "94f4f2b7-d5c8-40da-c762-bd7b264a3bee"
      },
      "outputs": [
        {
          "output_type": "stream",
          "name": "stdout",
          "text": [
            "350 146 155\n"
          ]
        }
      ],
      "source": [
        "raw_x_train, raw_y_train, raw_x_test, raw_y_test = even_sample(.7, n_reach_trials, num_electrodes, ms, count, per_reach)"
      ]
    },
    {
      "cell_type": "code",
      "source": [
        "raw_x_train.shape"
      ],
      "metadata": {
        "colab": {
          "base_uri": "https://localhost:8080/"
        },
        "id": "fN-NZEGONgr9",
        "outputId": "123bb80a-8e73-4751-82f7-143deb495a01"
      },
      "execution_count": 12,
      "outputs": [
        {
          "output_type": "execute_result",
          "data": {
            "text/plain": [
              "(350, 96, 300)"
            ]
          },
          "metadata": {},
          "execution_count": 12
        }
      ]
    },
    {
      "cell_type": "markdown",
      "metadata": {
        "id": "GdvJ74A5XnmP"
      },
      "source": [
        "### Reshape data and apply one-hot"
      ]
    },
    {
      "cell_type": "code",
      "source": [
        "from tensorflow.keras.models import Model\n",
        "from tensorflow.keras.layers import Dense, Input, Dropout, LSTM, Activation, Flatten\n",
        "from tensorflow.keras.layers import Embedding\n",
        "from tensorflow.keras.preprocessing import sequence\n",
        "from tensorflow.keras.initializers import glorot_uniform\n",
        "import tensorflow as tf\n"
      ],
      "metadata": {
        "id": "I8pWgPVC92hn"
      },
      "execution_count": 13,
      "outputs": []
    },
    {
      "cell_type": "code",
      "source": [
        "from copy import deepcopy\n",
        "X_train_base = tf.cast(deepcopy(raw_x_train), tf.float32)\n",
        "X_test_base = tf.cast(deepcopy(raw_x_test), tf.float32)"
      ],
      "metadata": {
        "id": "JogIzeIULZIb"
      },
      "execution_count": 14,
      "outputs": []
    },
    {
      "cell_type": "code",
      "execution_count": 15,
      "metadata": {
        "id": "bER6Rik02dKC"
      },
      "outputs": [],
      "source": [
        "X_train = tf.reshape(raw_x_train, (raw_x_train.shape[0], raw_x_train.shape[2], raw_x_train.shape[1]))\n",
        "X_test = tf.reshape(raw_x_test, (raw_x_test.shape[0], raw_x_test.shape[2], raw_x_test.shape[1]))\n",
        "X_train = tf.cast(X_train, tf.float32)\n",
        "X_test = tf.cast(X_test, tf.float32)"
      ]
    },
    {
      "cell_type": "code",
      "execution_count": 16,
      "metadata": {
        "colab": {
          "base_uri": "https://localhost:8080/"
        },
        "id": "wysRhnArN7bh",
        "outputId": "26ef4041-90d8-44db-d3ed-742e801560f2"
      },
      "outputs": [
        {
          "output_type": "execute_result",
          "data": {
            "text/plain": [
              "((350, 8), (154, 8))"
            ]
          },
          "metadata": {},
          "execution_count": 16
        }
      ],
      "source": [
        "Y_train = []\n",
        "for t in range(raw_y_train.shape[0]):\n",
        "    col = np.zeros((len(per_reach),))\n",
        "    col[raw_y_train[t][0]] = 1\n",
        "    Y_train.append(col)\n",
        "Y_train = np.array(Y_train)\n",
        "\n",
        "Y_test = []\n",
        "for t in range(raw_y_test.shape[0]):\n",
        "    col = np.zeros((len(per_reach),))\n",
        "    col[raw_y_test[t][0]] = 1\n",
        "    Y_test.append(col)\n",
        "Y_test = np.array(Y_test)\n",
        "\n",
        "Y_train.shape, Y_test.shape"
      ]
    },
    {
      "cell_type": "code",
      "execution_count": 17,
      "metadata": {
        "colab": {
          "base_uri": "https://localhost:8080/"
        },
        "id": "y1QizCu30cPP",
        "outputId": "175f0848-ecc5-4647-9e5f-076514c96e6f"
      },
      "outputs": [
        {
          "output_type": "execute_result",
          "data": {
            "text/plain": [
              "(TensorShape([350, 300, 96]), (350, 8), TensorShape([154, 300, 96]), (154, 8))"
            ]
          },
          "metadata": {},
          "execution_count": 17
        }
      ],
      "source": [
        "X_train.shape, Y_train.shape, X_test.shape, Y_test.shape"
      ]
    },
    {
      "cell_type": "code",
      "execution_count": 18,
      "metadata": {
        "id": "GA2gb0Hkv_aR"
      },
      "outputs": [],
      "source": [
        "Y_train_base = deepcopy(Y_train)\n",
        "Y_test_base = deepcopy(Y_test)"
      ]
    },
    {
      "cell_type": "code",
      "source": [
        "X_train_base.shape, Y_train_base.shape, X_test_base.shape, Y_test_base.shape"
      ],
      "metadata": {
        "colab": {
          "base_uri": "https://localhost:8080/"
        },
        "id": "XbGFYgTLNQuy",
        "outputId": "9b2d2822-8f6d-4bd2-9576-f99df9683c83"
      },
      "execution_count": 19,
      "outputs": [
        {
          "output_type": "execute_result",
          "data": {
            "text/plain": [
              "(TensorShape([350, 96, 300]), (350, 8), TensorShape([154, 96, 300]), (154, 8))"
            ]
          },
          "metadata": {},
          "execution_count": 19
        }
      ]
    },
    {
      "cell_type": "markdown",
      "source": [
        "### Metric functions"
      ],
      "metadata": {
        "id": "syYwaG3oFsFs"
      }
    },
    {
      "cell_type": "code",
      "execution_count": 20,
      "metadata": {
        "id": "EpN-dS-nt488"
      },
      "outputs": [],
      "source": [
        "def recall(y_true, y_pred):\n",
        "    y_true = np.ones_like(y_true)\n",
        "    true_positives = np.sum(np.round(np.clip(y_true * y_pred, 0, 1)))\n",
        "    all_positives = np.sum(np.round(np.clip(y_true, 0, 1)))\n",
        "\n",
        "    recall = true_positives / (all_positives + np.finfo(float).eps)\n",
        "    return recall\n",
        "\n",
        "def precision(y_true, y_pred):\n",
        "    y_true = np.ones_like(y_true)\n",
        "    true_positives = np.sum(np.round(np.clip(y_true * y_pred, 0, 1)))\n",
        "    predicted_positives = np.sum(np.round(np.clip(y_pred, 0, 1)))\n",
        "    precision = true_positives / (predicted_positives + np.finfo(float).eps)\n",
        "    return precision\n",
        "\n",
        "def f1_score(y_true, y_pred):\n",
        "    p = precision(y_true, y_pred)\n",
        "    r = recall(y_true, y_pred)\n",
        "    return 2*((p*r)/(p+r+np.finfo(float).eps))"
      ]
    },
    {
      "cell_type": "markdown",
      "source": [
        "## Base Model"
      ],
      "metadata": {
        "id": "23iElEJ7Fizw"
      }
    },
    {
      "cell_type": "code",
      "source": [
        "def Base(input_shape):\n",
        "    \"\"\"\n",
        "    Dense -> Dense -> Dense -> Softmax\n",
        "    Arguments:\n",
        "    input_shape    -- shape of the input, usually (max_len,)\n",
        "    num_catagories -- number of catagories (8 or 9)\n",
        "    Returns:\n",
        "    model -- a model instance in Keras\n",
        "    \"\"\"\n",
        "\n",
        "    input = Input(input_shape, dtype='float32')\n",
        "    X = Flatten()(input)\n",
        "    print(X.shape)\n",
        "    X = Dense(40)(X) \n",
        "    X = Dense(12)(X) \n",
        "    X = Dense(8)(X) \n",
        "    X = Activation('softmax')(X)\n",
        "    \n",
        "    model = Model(input, X)\n",
        "    \n",
        "    \n",
        "    return model"
      ],
      "metadata": {
        "id": "cR4aqVsnK8py"
      },
      "execution_count": 21,
      "outputs": []
    },
    {
      "cell_type": "markdown",
      "source": [
        "### Training"
      ],
      "metadata": {
        "id": "Jy4L9ptDUXbw"
      }
    },
    {
      "cell_type": "code",
      "source": [
        "model = Base((num_electrodes, ms))\n",
        "model.compile(loss='categorical_crossentropy', optimizer='adam', metrics=['accuracy'])\n"
      ],
      "metadata": {
        "colab": {
          "base_uri": "https://localhost:8080/"
        },
        "id": "NdNZvS2PKxzF",
        "outputId": "88ee4195-569f-4608-d34c-2146b739b8f4"
      },
      "execution_count": 22,
      "outputs": [
        {
          "output_type": "stream",
          "name": "stdout",
          "text": [
            "(None, 28800)\n"
          ]
        }
      ]
    },
    {
      "cell_type": "code",
      "source": [
        "model.fit(X_train_base, Y_train_base, epochs=2, batch_size = 1, shuffle=True, verbose=1)"
      ],
      "metadata": {
        "colab": {
          "base_uri": "https://localhost:8080/"
        },
        "id": "z4qOvHcMQryV",
        "outputId": "54b18700-11d3-43fb-8d18-aeba27006fe7"
      },
      "execution_count": 23,
      "outputs": [
        {
          "output_type": "stream",
          "name": "stdout",
          "text": [
            "Epoch 1/2\n",
            "350/350 [==============================] - 6s 13ms/step - loss: 2.0277 - accuracy: 0.2629\n",
            "Epoch 2/2\n",
            "350/350 [==============================] - 4s 12ms/step - loss: 0.0445 - accuracy: 0.9914\n"
          ]
        },
        {
          "output_type": "execute_result",
          "data": {
            "text/plain": [
              "<keras.callbacks.History at 0x7f812c9dbd00>"
            ]
          },
          "metadata": {},
          "execution_count": 23
        }
      ]
    },
    {
      "cell_type": "code",
      "source": [
        "loss, acc = model.evaluate(X_test_base, Y_test_base)\n",
        "print(\"Test accuracy = \", acc)"
      ],
      "metadata": {
        "colab": {
          "base_uri": "https://localhost:8080/"
        },
        "id": "f7dwrhZnQo8D",
        "outputId": "7c6fbd1a-f5d6-405d-a85e-a2f06c2b3cf8"
      },
      "execution_count": 24,
      "outputs": [
        {
          "output_type": "stream",
          "name": "stdout",
          "text": [
            "5/5 [==============================] - 1s 8ms/step - loss: 1.7658 - accuracy: 0.3182\n",
            "Test accuracy =  0.3181818127632141\n"
          ]
        }
      ]
    },
    {
      "cell_type": "code",
      "source": [
        "# verify test\n",
        "preds = model.predict(X_test_base)\n"
      ],
      "metadata": {
        "colab": {
          "base_uri": "https://localhost:8080/"
        },
        "id": "wxmo36tLUhLP",
        "outputId": "b1824368-21b7-4ab5-f07e-de01112b3cef"
      },
      "execution_count": 25,
      "outputs": [
        {
          "output_type": "stream",
          "name": "stdout",
          "text": [
            "5/5 [==============================] - 0s 7ms/step\n"
          ]
        }
      ]
    },
    {
      "cell_type": "code",
      "source": [
        "m = tf.keras.metrics.top_k_categorical_accuracy(Y_test_base, preds, k=3)\n",
        "np.sum(m) / len(m)"
      ],
      "metadata": {
        "colab": {
          "base_uri": "https://localhost:8080/"
        },
        "outputId": "87847d79-af6f-41bc-d919-cb73d1920009",
        "id": "KtmbxbJxUpI3"
      },
      "execution_count": 26,
      "outputs": [
        {
          "output_type": "execute_result",
          "data": {
            "text/plain": [
              "0.7337662337662337"
            ]
          },
          "metadata": {},
          "execution_count": 26
        }
      ]
    },
    {
      "cell_type": "code",
      "execution_count": 27,
      "metadata": {
        "id": "fLqoX3jAUpI4"
      },
      "outputs": [],
      "source": [
        "# from tensorflow.keras.metrics import confusion_matrix\n",
        "conf = tf.compat.v1.confusion_matrix(np.argmax(Y_test_base, axis=1), np.argmax(preds, axis=1), num_classes=len(per_reach))"
      ]
    },
    {
      "cell_type": "code",
      "source": [
        "from sklearn.metrics import ConfusionMatrixDisplay\n",
        "\n",
        "labels = [\"E\", \"NE\", \"N\", \"NW\", \"W\", \"SW\", \"S\", \"SE\"]\n",
        "\n",
        "# recall \n",
        "disp = ConfusionMatrixDisplay(confusion_matrix=np.array(conf), display_labels=labels)\n",
        "\n",
        "disp.plot(cmap=plt.cm.Blues)"
      ],
      "metadata": {
        "colab": {
          "base_uri": "https://localhost:8080/",
          "height": 297
        },
        "id": "LBz5atoTUuDU",
        "outputId": "c5556b56-16be-4828-b003-38e65bf33d79"
      },
      "execution_count": 28,
      "outputs": [
        {
          "output_type": "execute_result",
          "data": {
            "text/plain": [
              "<sklearn.metrics._plot.confusion_matrix.ConfusionMatrixDisplay at 0x7f8129782940>"
            ]
          },
          "metadata": {},
          "execution_count": 28
        },
        {
          "output_type": "display_data",
          "data": {
            "text/plain": [
              "<Figure size 432x288 with 2 Axes>"
            ],
            "image/png": "[encoded data removed]"
          },
          "metadata": {
            "needs_background": "light"
          }
        }
      ]
    },
    {
      "cell_type": "code",
      "source": [
        "from sklearn.metrics import ConfusionMatrixDisplay, precision_score, precision_recall_curve, average_precision_score, PrecisionRecallDisplay, f1_score\n",
        "\n",
        "\n",
        "# percision\n",
        "print(\"Precision per class: \", precision_score(np.argmax(Y_test_base, axis=1), np.argmax(preds, axis=1), average=None, sample_weight=None, zero_division='warn'))\n",
        "print(\"Overall Precision: \", precision_score(np.argmax(Y_test_base, axis=1), np.argmax(preds, axis=1), average='micro', sample_weight=None, zero_division='warn'))\n",
        "\n",
        "# recall and precision score\n",
        "precision = dict()\n",
        "recall = dict()\n",
        "average_precision = dict()\n",
        "for i in range(len(labels) - 1):\n",
        "    precision[i], recall[i], _ = precision_recall_curve(Y_test_base[:, i], preds[:, i])\n",
        "    average_precision[i] = average_precision_score(Y_test_base[:, i], preds[:, i])\n",
        "\n",
        "# A \"micro-average\": quantifying score on all classes jointly\n",
        "precision[\"micro\"], recall[\"micro\"], _ = precision_recall_curve(\n",
        "    Y_test_base.ravel(), preds.ravel()\n",
        ")\n",
        "average_precision[\"micro\"] = average_precision_score(Y_test_base, preds, average=\"micro\")\n",
        "display = PrecisionRecallDisplay(\n",
        "    recall=recall[\"micro\"],\n",
        "    precision=precision[\"micro\"],\n",
        "    average_precision=average_precision[\"micro\"],\n",
        ")\n",
        "display.plot()\n",
        "_ = display.ax_.set_title(\"Precision vs. Recall over all classes\")\n",
        "\n",
        "# f1 score\n",
        "print(\"f1 score: \", f1_score(np.argmax(Y_test_base, axis=1), np.argmax(preds, axis=1), labels=None, pos_label=1, average='micro', sample_weight=None, zero_division='warn'))"
      ],
      "metadata": {
        "colab": {
          "base_uri": "https://localhost:8080/",
          "height": 366
        },
        "id": "NwJ7KKJOhivu",
        "outputId": "9eaf1a73-72c3-4b3a-eb66-30f72bc3c8a9"
      },
      "execution_count": 30,
      "outputs": [
        {
          "output_type": "stream",
          "name": "stdout",
          "text": [
            "Precision per class:  [0.5        0.625      1.         0.19101124 0.30434783 0.5\n",
            " 0.5        1.        ]\n",
            "Overall Precision:  0.3181818181818182\n",
            "f1 score:  0.3181818181818182\n"
          ]
        },
        {
          "output_type": "display_data",
          "data": {
            "text/plain": [
              "<Figure size 432x288 with 1 Axes>"
            ],
            "image/png": "[encoded data removed]"
          },
          "metadata": {
            "needs_background": "light"
          }
        }
      ]
    }
  ],
  "metadata": {
    "colab": {
      "provenance": []
    },
    "kernelspec": {
      "display_name": "Python 3",
      "name": "python3"
    },
    "language_info": {
      "name": "python"
    }
  },
  "nbformat": 4,
  "nbformat_minor": 0
}